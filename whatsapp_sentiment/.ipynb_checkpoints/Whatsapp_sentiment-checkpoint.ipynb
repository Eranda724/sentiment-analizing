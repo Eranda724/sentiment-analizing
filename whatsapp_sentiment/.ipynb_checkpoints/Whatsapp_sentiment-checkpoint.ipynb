{
  "nbformat": 4,
  "nbformat_minor": 0,
  "metadata": {
    "colab": {
      "provenance": []
    },
    "kernelspec": {
      "name": "python3",
      "display_name": "Python 3"
    },
    "language_info": {
      "name": "python"
    }
  },
  "cells": [
    {
      "cell_type": "code",
      "execution_count": 44,
      "metadata": {
        "id": "IkXkfwHYzWEk"
      },
      "outputs": [],
      "source": [
        "import pandas as pd #reading and writing dataset\n",
        "import numpy as np\n",
        "import re #regex , remove unwanted text , select patterns\n",
        "\n",
        "import matplotlib.pyplot as plt #charts analyze data visualization\n",
        "from PIL import Image #close read write images\n",
        "\n",
        "from collections import Counter #Importing Counter to count items in collections\n",
        "from wordcloud import WordCloud, STOPWORDS, ImageColorGenerator #close read write images"
      ]
    },
    {
      "cell_type": "code",
      "source": [
        "!pip install vaderSentiment"
      ],
      "metadata": {
        "colab": {
          "base_uri": "https://localhost:8080/"
        },
        "id": "e1RmLx1NkNbM",
        "outputId": "1b261aae-9711-44cc-98a0-8ab83b0bc543"
      },
      "execution_count": 27,
      "outputs": [
        {
          "output_type": "stream",
          "name": "stdout",
          "text": [
            "Collecting vaderSentiment\n",
            "  Downloading vaderSentiment-3.3.2-py2.py3-none-any.whl.metadata (572 bytes)\n",
            "Requirement already satisfied: requests in /usr/local/lib/python3.10/dist-packages (from vaderSentiment) (2.32.3)\n",
            "Requirement already satisfied: charset-normalizer<4,>=2 in /usr/local/lib/python3.10/dist-packages (from requests->vaderSentiment) (3.4.0)\n",
            "Requirement already satisfied: idna<4,>=2.5 in /usr/local/lib/python3.10/dist-packages (from requests->vaderSentiment) (3.10)\n",
            "Requirement already satisfied: urllib3<3,>=1.21.1 in /usr/local/lib/python3.10/dist-packages (from requests->vaderSentiment) (2.2.3)\n",
            "Requirement already satisfied: certifi>=2017.4.17 in /usr/local/lib/python3.10/dist-packages (from requests->vaderSentiment) (2024.8.30)\n",
            "Downloading vaderSentiment-3.3.2-py2.py3-none-any.whl (125 kB)\n",
            "\u001b[2K   \u001b[90m━━━━━━━━━━━━━━━━━━━━━━━━━━━━━━━━━━━━━━━━\u001b[0m \u001b[32m126.0/126.0 kB\u001b[0m \u001b[31m2.3 MB/s\u001b[0m eta \u001b[36m0:00:00\u001b[0m\n",
            "\u001b[?25hInstalling collected packages: vaderSentiment\n",
            "Successfully installed vaderSentiment-3.3.2\n"
          ]
        }
      ]
    },
    {
      "cell_type": "code",
      "source": [
        "def date_time(s):\n",
        "  pattern = '^([0-9]+)(\\/)([0-9]+)(\\/)([0-9]+), ([0-9]+)(AM|PM|am|pm)?-' # Adjusted pattern\n",
        "  result = re.match(pattern, s)\n",
        "  if result:\n",
        "    return True\n",
        "  return False\n"
      ],
      "metadata": {
        "id": "ZIt_5vLF9dXZ"
      },
      "execution_count": 47,
      "outputs": []
    },
    {
      "cell_type": "code",
      "source": [
        "def find_author(s):\n",
        "  s = s.split(\":\")\n",
        "  if len(s)==2: # If there are two parts after splitting, it’s likely the message has an author\n",
        "    return True\n",
        "  else:\n",
        "    return False"
      ],
      "metadata": {
        "id": "16BdsCbZ-JAA"
      },
      "execution_count": 48,
      "outputs": []
    },
    {
      "cell_type": "code",
      "source": [
        "def msgs(line):\n",
        "  splitline = line.split(' - ')\n",
        "  dateTime = splitline[0] #The part before \" - \" is the timestamp\n",
        "  date, time = dateTime.split(\", \")\n",
        "  message = \" \".join(splitline[1:])\n",
        "\n",
        "  if find_author(message): # Checks if message has an author\n",
        "    splitmessage = message.split(\": \") # Splits message at \": \" to separate author from the actual message\n",
        "    author = splitmessage[0] # The first part is the author’s name\n",
        "    message = \" \".join(splitmessage[1:])   # The rest is the actual message content\n",
        "  else:\n",
        "    author= None #If no author, set author to None\n",
        "  return date, time, author, message # Returns date, time, author, and message as a tuple"
      ],
      "metadata": {
        "id": "CKqo9b96Cvvd"
      },
      "execution_count": 50,
      "outputs": []
    },
    {
      "cell_type": "code",
      "source": [
        "data = [] # Initializes an empty list to store message data\n",
        "conversation = 'Whatsapp_chat.csv'\n",
        "with open(conversation, encoding=\"utf-8\") as fp:\n",
        "  fp.readline() # Skips the first line\n",
        "  messageBuffer = [] # Buffer to hold lines that belong to the same message\n",
        "  date, time, author = None, None, None\n",
        "\n",
        "  while True:  # Starts an infinite loop to read lines until the end of the file\n",
        "    line = fp.readline() # Reads the next line in the file\n",
        "    if not line:\n",
        "      break\n",
        "    line = line.strip() # Removes leading and trailing whitespace from the line\n",
        "    if date_time(line):\n",
        "      if len(messageBuffer) > 0:\n",
        "        data.append([date, time, author, ' '.join(messageBuffer)]) # Adds previous message data to `data` list\n",
        "      messageBuffer.clear()\n",
        "      date, time, author, message = msgs(line)\n",
        "      messageBuffer.append(message)\n",
        "    else:\n",
        "      messageBuffer.append(line)"
      ],
      "metadata": {
        "id": "3ayOvLWCC2xe"
      },
      "execution_count": 54,
      "outputs": []
    },
    {
      "cell_type": "code",
      "source": [
        "df = pd.DataFrame(data, columns=[\"Date\", 'Time', 'Author', 'Message'])\n",
        "df['Date'] = pd.to_datetime(df['Date'])\n",
        "\n",
        "data = df.dropna()\n",
        "\n",
        "from nltk.sentiment.vader import SentimentIntensityAnalyzer\n",
        "from vaderSentiment.vaderSentiment import SentimentIntensityAnalyzer\n",
        "\n",
        "sentiments = SentimentIntensityAnalyzer()\n",
        "\n",
        "data[\"Positive\"] = [sentiments.polarity_scores(i)[\"pos\"] for i in data[\"Message\"]]\n",
        "data[\"Negative\"] = [sentiments.polarity_scores(i)[\"neg\"] for i in data[\"Message\"]]\n",
        "data[\"Neutral\"] = [sentiments.polarity_scores(i)[\"neu\"] for i in data[\"Message\"]]\n",
        "\n",
        "print(data.head())"
      ],
      "metadata": {
        "colab": {
          "base_uri": "https://localhost:8080/"
        },
        "id": "ylTsQ7YXbnWw",
        "outputId": "9a046438-808e-4255-dc58-efa4ee56cc2e"
      },
      "execution_count": 55,
      "outputs": [
        {
          "output_type": "stream",
          "name": "stdout",
          "text": [
            "Empty DataFrame\n",
            "Columns: [Date, Time, Author, Message, Positive, Negative, Neutral]\n",
            "Index: []\n"
          ]
        }
      ]
    },
    {
      "cell_type": "code",
      "source": [
        "#validate\n",
        "x = sum(data[\"Positive\"])\n",
        "y = sum(data[\"Negative\"])\n",
        "z = sum(data[\"Neutral\"])\n",
        "\n",
        "def score(a, b, c):\n",
        "  if (a>b) and (a>c):\n",
        "    print(\"Positive 😊 \")\n",
        "  elif (b>a) and (b>c):\n",
        "    print(\"Negative 😠 \")\n",
        "  else:\n",
        "    print(\"Neutral 🙂 \")"
      ],
      "metadata": {
        "id": "tdjxiXyukhx_"
      },
      "execution_count": 56,
      "outputs": []
    },
    {
      "cell_type": "code",
      "source": [
        "score(x,y,z)"
      ],
      "metadata": {
        "colab": {
          "base_uri": "https://localhost:8080/"
        },
        "id": "7s_6vJvfl6WI",
        "outputId": "69a2b93c-aacf-42b2-b944-4963299c4359"
      },
      "execution_count": 57,
      "outputs": [
        {
          "output_type": "stream",
          "name": "stdout",
          "text": [
            "Neutral 🙂 \n"
          ]
        }
      ]
    }
  ]
}